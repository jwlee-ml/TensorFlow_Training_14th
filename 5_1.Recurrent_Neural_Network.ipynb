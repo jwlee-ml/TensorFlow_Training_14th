{
  "nbformat": 4,
  "nbformat_minor": 0,
  "metadata": {
    "kernelspec": {
      "name": "python3",
      "display_name": "Python 3"
    },
    "language_info": {
      "codemirror_mode": {
        "name": "ipython",
        "version": 3
      },
      "file_extension": ".py",
      "mimetype": "text/x-python",
      "name": "python",
      "nbconvert_exporter": "python",
      "pygments_lexer": "ipython3",
      "version": "3.7.3"
    },
    "colab": {
      "name": "5_1.Recurrent_Neural_Network.ipynb",
      "provenance": [],
      "collapsed_sections": []
    },
    "accelerator": "GPU"
  },
  "cells": [
    {
      "cell_type": "markdown",
      "metadata": {
        "id": "mPJFou6domAY",
        "colab_type": "text"
      },
      "source": [
        "### TensorFlow 2.0 선택"
      ]
    },
    {
      "cell_type": "code",
      "metadata": {
        "id": "3c2vO-fbokiU",
        "colab_type": "code",
        "outputId": "fbe596dd-afbf-403e-959c-c8e3524a7ef3",
        "colab": {
          "base_uri": "https://localhost:8080/",
          "height": 36
        }
      },
      "source": [
        "try:\n",
        "  # %tensorflow_version only exists in Colab.\n",
        "  %tensorflow_version 2.x\n",
        "except Exception:\n",
        "  pass"
      ],
      "execution_count": 1,
      "outputs": [
        {
          "output_type": "stream",
          "text": [
            "TensorFlow 2.x selected.\n"
          ],
          "name": "stdout"
        }
      ]
    },
    {
      "cell_type": "markdown",
      "metadata": {
        "id": "a9hDarKCdK6Z",
        "colab_type": "text"
      },
      "source": [
        "# RNN Basics\n",
        "\n",
        "RNN의 API의 사용법과, input shape, output shape 등의 기본적인 것들에 대해서 알아봅니다."
      ]
    },
    {
      "cell_type": "code",
      "metadata": {
        "id": "1WkIwB7ldK6a",
        "colab_type": "code",
        "outputId": "5c10d4b5-399b-4b57-dbbe-ec09aa4336a0",
        "colab": {
          "base_uri": "https://localhost:8080/",
          "height": 55
        }
      },
      "source": [
        "## library import\n",
        "import tensorflow as tf\n",
        "from tensorflow import keras\n",
        "from tensorflow.keras import layers\n",
        "from tensorflow.keras.utils import to_categorical\n",
        "import numpy as np\n",
        "import matplotlib.pyplot as plt\n",
        "import os\n",
        "\n",
        "print(tf.__version__)\n",
        "print(keras.__version__)"
      ],
      "execution_count": 2,
      "outputs": [
        {
          "output_type": "stream",
          "text": [
            "2.0.0\n",
            "2.2.4-tf\n"
          ],
          "name": "stdout"
        }
      ]
    },
    {
      "cell_type": "markdown",
      "metadata": {
        "id": "GmM3bHbzdK6e",
        "colab_type": "text"
      },
      "source": [
        "## Preparing Dataset"
      ]
    },
    {
      "cell_type": "code",
      "metadata": {
        "id": "iKIImjvIdK6e",
        "colab_type": "code",
        "colab": {}
      },
      "source": [
        "# One hot encoding for each char in 'hello'\n",
        "h = [1, 0, 0, 0]\n",
        "e = [0, 1, 0, 0]\n",
        "l = [0, 0, 1, 0]\n",
        "o = [0, 0, 0, 1]"
      ],
      "execution_count": 0,
      "outputs": []
    },
    {
      "cell_type": "markdown",
      "metadata": {
        "id": "Htcr7NjPdK6g",
        "colab_type": "text"
      },
      "source": [
        "![image](https://cloud.githubusercontent.com/assets/901975/23348727/cc981856-fce7-11e6-83ea-4b187473466b.png)"
      ]
    },
    {
      "cell_type": "code",
      "metadata": {
        "id": "bFedYb4ndK6g",
        "colab_type": "code",
        "outputId": "a9c56dbf-9596-49d1-8026-7d5c1924808d",
        "colab": {
          "base_uri": "https://localhost:8080/",
          "height": 75
        }
      },
      "source": [
        "x_data = np.array([[h]], dtype=np.float32)\n",
        "\n",
        "hidden_size = 2\n",
        "\n",
        "rnn = layers.SimpleRNN(units=hidden_size, return_sequences=True,\n",
        "                       return_state=True) # layers.SimpleRNNCell + layers.RNN\n",
        "\n",
        "outputs, states = rnn(x_data)\n",
        "\n",
        "print('x_data: {}, shape: {}'.format(x_data, x_data.shape))\n",
        "print('outputs: {}, shape: {}'.format(outputs, outputs.shape))\n",
        "print('states: {}, shape: {}'.format(states, states.shape))"
      ],
      "execution_count": 4,
      "outputs": [
        {
          "output_type": "stream",
          "text": [
            "x_data: [[[1. 0. 0. 0.]]], shape: (1, 1, 4)\n",
            "outputs: [[[-0.46649882 -0.00352024]]], shape: (1, 1, 2)\n",
            "states: [[-0.46649882 -0.00352024]], shape: (1, 2)\n"
          ],
          "name": "stdout"
        }
      ]
    },
    {
      "cell_type": "markdown",
      "metadata": {
        "id": "UIw7AdaWdK6i",
        "colab_type": "text"
      },
      "source": [
        "## Unfolding to n sequences"
      ]
    },
    {
      "cell_type": "markdown",
      "metadata": {
        "id": "PKneEmxBdK6i",
        "colab_type": "text"
      },
      "source": [
        "![image](https://cloud.githubusercontent.com/assets/901975/23383634/649efd0a-fd82-11e6-925d-8041242743b0.png)"
      ]
    },
    {
      "cell_type": "code",
      "metadata": {
        "id": "3g9F6Pm1dK6j",
        "colab_type": "code",
        "outputId": "43e11c3b-0c7e-46cd-cb10-70260da95926",
        "colab": {
          "base_uri": "https://localhost:8080/",
          "height": 189
        }
      },
      "source": [
        "# One cell RNN input_dim (4) -> output_dim (2). sequence: 5\n",
        "x_data = np.array([[h, e, l, l, o]], dtype=np.float32)\n",
        "\n",
        "hidden_size = 2\n",
        "rnn = layers.SimpleRNN(units=2, return_sequences=False, return_state=True)    \n",
        "outputs, states = rnn(x_data)\n",
        "\n",
        "print('x_data: {}, shape: {} \\n'.format(x_data, x_data.shape))\n",
        "print('outputs: {}, shape: {} \\n'.format(outputs, outputs.shape))\n",
        "print('states: {}, shape: {}'.format(states, states.shape))"
      ],
      "execution_count": 5,
      "outputs": [
        {
          "output_type": "stream",
          "text": [
            "x_data: [[[1. 0. 0. 0.]\n",
            "  [0. 1. 0. 0.]\n",
            "  [0. 0. 1. 0.]\n",
            "  [0. 0. 1. 0.]\n",
            "  [0. 0. 0. 1.]]], shape: (1, 5, 4) \n",
            "\n",
            "outputs: [[-0.53076684 -0.72844243]], shape: (1, 2) \n",
            "\n",
            "states: [[-0.53076684 -0.72844243]], shape: (1, 2)\n"
          ],
          "name": "stdout"
        }
      ]
    },
    {
      "cell_type": "markdown",
      "metadata": {
        "id": "JKrFJ-v_dK6l",
        "colab_type": "text"
      },
      "source": [
        "## Batching input"
      ]
    },
    {
      "cell_type": "markdown",
      "metadata": {
        "id": "BB3GPvH0dK6l",
        "colab_type": "text"
      },
      "source": [
        "![image](https://cloud.githubusercontent.com/assets/901975/23383681/9943a9fc-fd82-11e6-8121-bd187994e249.png)"
      ]
    },
    {
      "cell_type": "code",
      "metadata": {
        "id": "vugcwuridK6l",
        "colab_type": "code",
        "outputId": "4cf05d91-62d7-45fa-b50b-b29b5d350605",
        "colab": {
          "base_uri": "https://localhost:8080/",
          "height": 762
        }
      },
      "source": [
        "# One cell RNN input_dim (4) -> output_dim (2). sequence: 5, batch 3\n",
        "# 3 batches 'hello', 'eolll', 'lleel'\n",
        "x_data = np.array([[h, e, l, l, o],\n",
        "                   [e, o, l, l, l],\n",
        "                   [l, l, e, e, l]], dtype=np.float32)\n",
        "\n",
        "hidden_size = 2\n",
        "rnn = layers.SimpleRNN(units=2, return_sequences=True, return_state=True)    \n",
        "outputs, states = rnn(x_data)\n",
        "\n",
        "print('x_data: {}, shape: {} \\n'.format(x_data, x_data.shape))\n",
        "print('outputs: {}, shape: {} \\n'.format(outputs, outputs.shape))\n",
        "print('states: {}, shape: {}'.format(states, states.shape))"
      ],
      "execution_count": 6,
      "outputs": [
        {
          "output_type": "stream",
          "text": [
            "x_data: [[[1. 0. 0. 0.]\n",
            "  [0. 1. 0. 0.]\n",
            "  [0. 0. 1. 0.]\n",
            "  [0. 0. 1. 0.]\n",
            "  [0. 0. 0. 1.]]\n",
            "\n",
            " [[0. 1. 0. 0.]\n",
            "  [0. 0. 0. 1.]\n",
            "  [0. 0. 1. 0.]\n",
            "  [0. 0. 1. 0.]\n",
            "  [0. 0. 1. 0.]]\n",
            "\n",
            " [[0. 0. 1. 0.]\n",
            "  [0. 0. 1. 0.]\n",
            "  [0. 1. 0. 0.]\n",
            "  [0. 1. 0. 0.]\n",
            "  [0. 0. 1. 0.]]], shape: (3, 5, 4) \n",
            "\n",
            "outputs: [[[ 0.45933738  0.7600722 ]\n",
            "  [ 0.42893443 -0.3657833 ]\n",
            "  [ 0.8863663  -0.4441074 ]\n",
            "  [ 0.9430317  -0.6470252 ]\n",
            "  [ 0.90083367 -0.12859559]]\n",
            "\n",
            " [[ 0.6221387   0.43214935]\n",
            "  [ 0.42432415 -0.5356399 ]\n",
            "  [ 0.9103488  -0.34703428]\n",
            "  [ 0.9363349  -0.6921713 ]\n",
            "  [ 0.9629087  -0.56796396]]\n",
            "\n",
            " [[ 0.689506   -0.3758023 ]\n",
            "  [ 0.9191872  -0.5829466 ]\n",
            "  [ 0.94386715  0.15299597]\n",
            "  [ 0.8438916  -0.33527508]\n",
            "  [ 0.92952204 -0.6694905 ]]], shape: (3, 5, 2) \n",
            "\n",
            "states: [[ 0.90083367 -0.12859559]\n",
            " [ 0.9629087  -0.56796396]\n",
            " [ 0.92952204 -0.6694905 ]], shape: (3, 2)\n"
          ],
          "name": "stdout"
        }
      ]
    },
    {
      "cell_type": "markdown",
      "metadata": {
        "id": "zYqgelI-dK6n",
        "colab_type": "text"
      },
      "source": [
        "## No return sequences"
      ]
    },
    {
      "cell_type": "code",
      "metadata": {
        "id": "FrirRXvedK6n",
        "colab_type": "code",
        "outputId": "f0fb94ee-c319-4b11-fa07-5f4a46e279c3",
        "colab": {
          "base_uri": "https://localhost:8080/",
          "height": 495
        }
      },
      "source": [
        "rnn = layers.SimpleRNN(units=2, return_sequences=False, return_state=True)    \n",
        "outputs, states = rnn(x_data)\n",
        "\n",
        "print('x_data: {}, shape: {} \\n'.format(x_data, x_data.shape))\n",
        "print('outputs: {}, shape: {} \\n'.format(outputs, outputs.shape))\n",
        "print('states: {}, shape: {}'.format(states, states.shape))"
      ],
      "execution_count": 7,
      "outputs": [
        {
          "output_type": "stream",
          "text": [
            "x_data: [[[1. 0. 0. 0.]\n",
            "  [0. 1. 0. 0.]\n",
            "  [0. 0. 1. 0.]\n",
            "  [0. 0. 1. 0.]\n",
            "  [0. 0. 0. 1.]]\n",
            "\n",
            " [[0. 1. 0. 0.]\n",
            "  [0. 0. 0. 1.]\n",
            "  [0. 0. 1. 0.]\n",
            "  [0. 0. 1. 0.]\n",
            "  [0. 0. 1. 0.]]\n",
            "\n",
            " [[0. 0. 1. 0.]\n",
            "  [0. 0. 1. 0.]\n",
            "  [0. 1. 0. 0.]\n",
            "  [0. 1. 0. 0.]\n",
            "  [0. 0. 1. 0.]]], shape: (3, 5, 4) \n",
            "\n",
            "outputs: [[-0.84643984 -0.05167458]\n",
            " [ 0.5937716   0.29790494]\n",
            " [-0.20120248  0.56698817]], shape: (3, 2) \n",
            "\n",
            "states: [[-0.84643984 -0.05167458]\n",
            " [ 0.5937716   0.29790494]\n",
            " [-0.20120248  0.56698817]], shape: (3, 2)\n"
          ],
          "name": "stdout"
        }
      ]
    },
    {
      "cell_type": "markdown",
      "metadata": {
        "id": "zkKMcUR2dK6p",
        "colab_type": "text"
      },
      "source": [
        "## No return state"
      ]
    },
    {
      "cell_type": "code",
      "metadata": {
        "id": "Af9Ijmy3dK6q",
        "colab_type": "code",
        "outputId": "f736c4b7-e8f6-4025-a268-e9925a9e7f48",
        "colab": {
          "base_uri": "https://localhost:8080/",
          "height": 437
        }
      },
      "source": [
        "rnn = layers.SimpleRNN(units=2, return_sequences=False, return_state=False) \n",
        "\n",
        "outputs = rnn(x_data)\n",
        "\n",
        "print('x_data: {}, shape: {} \\n'.format(x_data, x_data.shape))\n",
        "print('outputs: {}, shape: {} \\n'.format(outputs, outputs.shape))"
      ],
      "execution_count": 8,
      "outputs": [
        {
          "output_type": "stream",
          "text": [
            "x_data: [[[1. 0. 0. 0.]\n",
            "  [0. 1. 0. 0.]\n",
            "  [0. 0. 1. 0.]\n",
            "  [0. 0. 1. 0.]\n",
            "  [0. 0. 0. 1.]]\n",
            "\n",
            " [[0. 1. 0. 0.]\n",
            "  [0. 0. 0. 1.]\n",
            "  [0. 0. 1. 0.]\n",
            "  [0. 0. 1. 0.]\n",
            "  [0. 0. 1. 0.]]\n",
            "\n",
            " [[0. 0. 1. 0.]\n",
            "  [0. 0. 1. 0.]\n",
            "  [0. 1. 0. 0.]\n",
            "  [0. 1. 0. 0.]\n",
            "  [0. 0. 1. 0.]]], shape: (3, 5, 4) \n",
            "\n",
            "outputs: [[-0.9219992  -0.7139125 ]\n",
            " [ 0.69393855 -0.86059064]\n",
            " [ 0.30832225 -0.8646973 ]], shape: (3, 2) \n",
            "\n"
          ],
          "name": "stdout"
        }
      ]
    },
    {
      "cell_type": "markdown",
      "metadata": {
        "id": "MS4vutFIdK6t",
        "colab_type": "text"
      },
      "source": [
        "## GRU"
      ]
    },
    {
      "cell_type": "code",
      "metadata": {
        "id": "8rHmUryRdK6t",
        "colab_type": "code",
        "outputId": "7ebe6566-da26-4df0-f316-d8e261fd7fcd",
        "colab": {
          "base_uri": "https://localhost:8080/",
          "height": 495
        }
      },
      "source": [
        "rnn = layers.GRU(units=2, return_sequences=False, return_state=True)    \n",
        "outputs, states = rnn(x_data)\n",
        "\n",
        "print('x_data: {}, shape: {} \\n'.format(x_data, x_data.shape))\n",
        "print('outputs: {}, shape: {} \\n'.format(outputs, outputs.shape))\n",
        "print('states: {}, shape: {}'.format(states, states.shape))"
      ],
      "execution_count": 9,
      "outputs": [
        {
          "output_type": "stream",
          "text": [
            "x_data: [[[1. 0. 0. 0.]\n",
            "  [0. 1. 0. 0.]\n",
            "  [0. 0. 1. 0.]\n",
            "  [0. 0. 1. 0.]\n",
            "  [0. 0. 0. 1.]]\n",
            "\n",
            " [[0. 1. 0. 0.]\n",
            "  [0. 0. 0. 1.]\n",
            "  [0. 0. 1. 0.]\n",
            "  [0. 0. 1. 0.]\n",
            "  [0. 0. 1. 0.]]\n",
            "\n",
            " [[0. 0. 1. 0.]\n",
            "  [0. 0. 1. 0.]\n",
            "  [0. 1. 0. 0.]\n",
            "  [0. 1. 0. 0.]\n",
            "  [0. 0. 1. 0.]]], shape: (3, 5, 4) \n",
            "\n",
            "outputs: [[ 0.24027608  0.38515896]\n",
            " [ 0.5358431  -0.13683558]\n",
            " [ 0.3338251  -0.17153345]], shape: (3, 2) \n",
            "\n",
            "states: [[ 0.24027608  0.38515896]\n",
            " [ 0.5358431  -0.13683558]\n",
            " [ 0.3338251  -0.17153345]], shape: (3, 2)\n"
          ],
          "name": "stdout"
        }
      ]
    },
    {
      "cell_type": "markdown",
      "metadata": {
        "id": "_-ZaJI9udK6v",
        "colab_type": "text"
      },
      "source": [
        "## LSTM"
      ]
    },
    {
      "cell_type": "code",
      "metadata": {
        "id": "MchP5x9LdK6v",
        "colab_type": "code",
        "outputId": "fa8ab41a-9684-4d4e-a980-567a034dd460",
        "colab": {
          "base_uri": "https://localhost:8080/",
          "height": 552
        }
      },
      "source": [
        "rnn = layers.LSTM(units=2, return_sequences=False, return_state=True)    \n",
        "outputs, h_states, c_states = rnn(x_data)\n",
        "\n",
        "print('x_data: {}, shape: {} \\n'.format(x_data, x_data.shape))\n",
        "print('outputs: {}, shape: {} \\n'.format(outputs, outputs.shape))\n",
        "print('hidden_states: {}, shape: {}'.format(h_states, h_states.shape))\n",
        "print('cell_states: {}, shape: {}'.format(c_states, c_states.shape))"
      ],
      "execution_count": 10,
      "outputs": [
        {
          "output_type": "stream",
          "text": [
            "x_data: [[[1. 0. 0. 0.]\n",
            "  [0. 1. 0. 0.]\n",
            "  [0. 0. 1. 0.]\n",
            "  [0. 0. 1. 0.]\n",
            "  [0. 0. 0. 1.]]\n",
            "\n",
            " [[0. 1. 0. 0.]\n",
            "  [0. 0. 0. 1.]\n",
            "  [0. 0. 1. 0.]\n",
            "  [0. 0. 1. 0.]\n",
            "  [0. 0. 1. 0.]]\n",
            "\n",
            " [[0. 0. 1. 0.]\n",
            "  [0. 0. 1. 0.]\n",
            "  [0. 1. 0. 0.]\n",
            "  [0. 1. 0. 0.]\n",
            "  [0. 0. 1. 0.]]], shape: (3, 5, 4) \n",
            "\n",
            "outputs: [[0.11936444 0.32679927]\n",
            " [0.17931373 0.36786148]\n",
            " [0.04942125 0.27550623]], shape: (3, 2) \n",
            "\n",
            "hidden_states: [[0.11936444 0.32679927]\n",
            " [0.17931373 0.36786148]\n",
            " [0.04942125 0.27550623]], shape: (3, 2)\n",
            "cell_states: [[0.23878425 0.5488223 ]\n",
            " [0.45891386 0.654963  ]\n",
            " [0.11134476 0.46028677]], shape: (3, 2)\n"
          ],
          "name": "stdout"
        }
      ]
    },
    {
      "cell_type": "markdown",
      "metadata": {
        "id": "V4U4nH9sdK6x",
        "colab_type": "text"
      },
      "source": [
        "## Stacked RNN"
      ]
    },
    {
      "cell_type": "code",
      "metadata": {
        "id": "3vkkKPwadK6x",
        "colab_type": "code",
        "outputId": "af25539b-7f3f-43c0-f448-4b6c6dedcb9e",
        "colab": {
          "base_uri": "https://localhost:8080/",
          "height": 285
        }
      },
      "source": [
        "model = keras.Sequential()\n",
        "model.add(layers.SimpleRNN(2, return_sequences=True, input_shape=(5,4)))\n",
        "model.add(layers.SimpleRNN(2, return_sequences=True))\n",
        "model.add(layers.SimpleRNN(2, return_sequences=True))\n",
        "model.summary()"
      ],
      "execution_count": 11,
      "outputs": [
        {
          "output_type": "stream",
          "text": [
            "Model: \"sequential\"\n",
            "_________________________________________________________________\n",
            "Layer (type)                 Output Shape              Param #   \n",
            "=================================================================\n",
            "simple_rnn_5 (SimpleRNN)     (None, 5, 2)              14        \n",
            "_________________________________________________________________\n",
            "simple_rnn_6 (SimpleRNN)     (None, 5, 2)              10        \n",
            "_________________________________________________________________\n",
            "simple_rnn_7 (SimpleRNN)     (None, 5, 2)              10        \n",
            "=================================================================\n",
            "Total params: 34\n",
            "Trainable params: 34\n",
            "Non-trainable params: 0\n",
            "_________________________________________________________________\n"
          ],
          "name": "stdout"
        }
      ]
    },
    {
      "cell_type": "markdown",
      "metadata": {
        "id": "cDH9IFkvpexS",
        "colab_type": "text"
      },
      "source": [
        "# RNN을 이용하여 MNIST Classification 학습하기 \n",
        "  \n",
        "\n",
        "MNIST Image를 한 line씩 RNN에 입력하여 classification을 하는 실습을 해보겠습니다."
      ]
    },
    {
      "cell_type": "code",
      "metadata": {
        "id": "6aFxV5JNdK6z",
        "colab_type": "code",
        "colab": {}
      },
      "source": [
        "## HyperParameters\n",
        "learning_rate = 0.001\n",
        "training_epochs = 15\n",
        "batch_size = 100\n",
        "n_class = 10"
      ],
      "execution_count": 0,
      "outputs": []
    },
    {
      "cell_type": "code",
      "metadata": {
        "id": "miNAOFXNpl8T",
        "colab_type": "code",
        "colab": {}
      },
      "source": [
        "## Data 준비\n",
        "## MNIST Dataset #########################################################\n",
        "mnist = keras.datasets.mnist\n",
        "class_names = ['0', '1', '2', '3', '4', '5', '6', '7', '8', '9']\n",
        "##########################################################################\n",
        "\n",
        "## Fashion MNIST Dataset #################################################\n",
        "#mnist = keras.datasets.fashion_mnist\n",
        "#class_names = ['T-shirt/top', 'Trouser', 'Pullover', 'Dress', 'Coat', 'Sandal', 'Shirt', 'Sneaker', 'Bag', 'Ankle boot']\n",
        "##########################################################################"
      ],
      "execution_count": 0,
      "outputs": []
    },
    {
      "cell_type": "code",
      "metadata": {
        "id": "MWXMlAvBprPr",
        "colab_type": "code",
        "outputId": "58c98c63-6f90-4441-82ef-125b43869fba",
        "colab": {
          "base_uri": "https://localhost:8080/",
          "height": 75
        }
      },
      "source": [
        "## Dataset 만들기\n",
        "(train_images, train_labels), (test_images, test_labels) = mnist.load_data()\n",
        "\n",
        "n_train = train_images.shape[0]\n",
        "n_test = test_images.shape[0]\n",
        "print(train_images.shape, test_images.shape)"
      ],
      "execution_count": 14,
      "outputs": [
        {
          "output_type": "stream",
          "text": [
            "Downloading data from https://storage.googleapis.com/tensorflow/tf-keras-datasets/mnist.npz\n",
            "11493376/11490434 [==============================] - 0s 0us/step\n",
            "(60000, 28, 28) (10000, 28, 28)\n"
          ],
          "name": "stdout"
        }
      ]
    },
    {
      "cell_type": "code",
      "metadata": {
        "id": "RddODKrhpypG",
        "colab_type": "code",
        "colab": {}
      },
      "source": [
        "# pixel값을 0~1사이 범위로 조정\n",
        "train_images = train_images.astype(np.float32) / 255.\n",
        "test_images = test_images.astype(np.float32) / 255.\n",
        "\n",
        "# label을 onehot-encoding\n",
        "train_labels = to_categorical(train_labels, 10)\n",
        "test_labels = to_categorical(test_labels, 10)    \n",
        "\n",
        "# Dataset 구성\n",
        "train_dataset = tf.data.Dataset.from_tensor_slices((train_images, train_labels)).shuffle(\n",
        "                buffer_size=100000).batch(batch_size).repeat()\n",
        "test_dataset = tf.data.Dataset.from_tensor_slices((test_images, test_labels)).batch(batch_size).repeat()"
      ],
      "execution_count": 0,
      "outputs": []
    },
    {
      "cell_type": "code",
      "metadata": {
        "id": "yTG07duup1hk",
        "colab_type": "code",
        "colab": {}
      },
      "source": [
        "## Model 만들기\n",
        "def create_model():\n",
        "    model = keras.Sequential()\n",
        "    model.add(layers.LSTM(units=128, return_sequences=False, input_shape=(28,28)))\n",
        "    model.add(layers.Dense(units=10, activation='softmax'))\n",
        "    return model"
      ],
      "execution_count": 0,
      "outputs": []
    },
    {
      "cell_type": "code",
      "metadata": {
        "id": "cDs9Ff3nqOgQ",
        "colab_type": "code",
        "outputId": "f6b77478-fe0b-4ffb-a323-3076067ea8ab",
        "colab": {
          "base_uri": "https://localhost:8080/",
          "height": 246
        }
      },
      "source": [
        "model = create_model()\n",
        "model.summary()"
      ],
      "execution_count": 17,
      "outputs": [
        {
          "output_type": "stream",
          "text": [
            "Model: \"sequential_1\"\n",
            "_________________________________________________________________\n",
            "Layer (type)                 Output Shape              Param #   \n",
            "=================================================================\n",
            "lstm_1 (LSTM)                (None, 128)               80384     \n",
            "_________________________________________________________________\n",
            "dense (Dense)                (None, 10)                1290      \n",
            "=================================================================\n",
            "Total params: 81,674\n",
            "Trainable params: 81,674\n",
            "Non-trainable params: 0\n",
            "_________________________________________________________________\n"
          ],
          "name": "stdout"
        }
      ]
    },
    {
      "cell_type": "code",
      "metadata": {
        "id": "j5OAYI4CqQs4",
        "colab_type": "code",
        "colab": {}
      },
      "source": [
        "## model compile\n",
        "model.compile(optimizers=keras.optimizers.Adam(learning_rate),\n",
        "              loss='categorical_crossentropy',\n",
        "              metrics=['accuracy'])"
      ],
      "execution_count": 0,
      "outputs": []
    },
    {
      "cell_type": "code",
      "metadata": {
        "id": "x-6dXUpOrZOS",
        "colab_type": "code",
        "colab": {}
      },
      "source": [
        "## Training\n",
        "steps_per_epoch = n_train/batch_size\n",
        "validation_steps = n_test/batch_size"
      ],
      "execution_count": 0,
      "outputs": []
    },
    {
      "cell_type": "code",
      "metadata": {
        "id": "bAL4CxnLrb0i",
        "colab_type": "code",
        "outputId": "eaed3b31-9fe5-4d27-b590-75a8a06514f9",
        "colab": {
          "base_uri": "https://localhost:8080/",
          "height": 609
        }
      },
      "source": [
        "history = model.fit(train_dataset, epochs=training_epochs, steps_per_epoch=steps_per_epoch, \n",
        "                    validation_data=test_dataset, validation_steps=validation_steps)"
      ],
      "execution_count": 20,
      "outputs": [
        {
          "output_type": "stream",
          "text": [
            "Train for 600.0 steps, validate for 100.0 steps\n",
            "Epoch 1/15\n",
            "600/600 [==============================] - 6s 10ms/step - loss: 0.5300 - accuracy: 0.8245 - val_loss: 0.1797 - val_accuracy: 0.9449\n",
            "Epoch 2/15\n",
            "600/600 [==============================] - 4s 6ms/step - loss: 0.1535 - accuracy: 0.9526 - val_loss: 0.1244 - val_accuracy: 0.9616\n",
            "Epoch 3/15\n",
            "600/600 [==============================] - 4s 6ms/step - loss: 0.0996 - accuracy: 0.9702 - val_loss: 0.0842 - val_accuracy: 0.9734\n",
            "Epoch 4/15\n",
            "600/600 [==============================] - 4s 6ms/step - loss: 0.0733 - accuracy: 0.9774 - val_loss: 0.0732 - val_accuracy: 0.9770\n",
            "Epoch 5/15\n",
            "600/600 [==============================] - 4s 6ms/step - loss: 0.0586 - accuracy: 0.9820 - val_loss: 0.0579 - val_accuracy: 0.9825\n",
            "Epoch 6/15\n",
            "600/600 [==============================] - 4s 6ms/step - loss: 0.0484 - accuracy: 0.9852 - val_loss: 0.0591 - val_accuracy: 0.9816\n",
            "Epoch 7/15\n",
            "600/600 [==============================] - 4s 6ms/step - loss: 0.0398 - accuracy: 0.9874 - val_loss: 0.0485 - val_accuracy: 0.9839\n",
            "Epoch 8/15\n",
            "600/600 [==============================] - 4s 6ms/step - loss: 0.0345 - accuracy: 0.9894 - val_loss: 0.0478 - val_accuracy: 0.9855\n",
            "Epoch 9/15\n",
            "600/600 [==============================] - 4s 6ms/step - loss: 0.0302 - accuracy: 0.9905 - val_loss: 0.0450 - val_accuracy: 0.9852\n",
            "Epoch 10/15\n",
            "600/600 [==============================] - 4s 6ms/step - loss: 0.0266 - accuracy: 0.9920 - val_loss: 0.0434 - val_accuracy: 0.9873\n",
            "Epoch 11/15\n",
            "600/600 [==============================] - 4s 6ms/step - loss: 0.0219 - accuracy: 0.9929 - val_loss: 0.0393 - val_accuracy: 0.9878\n",
            "Epoch 12/15\n",
            "600/600 [==============================] - 4s 6ms/step - loss: 0.0203 - accuracy: 0.9936 - val_loss: 0.0406 - val_accuracy: 0.9885\n",
            "Epoch 13/15\n",
            "600/600 [==============================] - 4s 6ms/step - loss: 0.0178 - accuracy: 0.9944 - val_loss: 0.0465 - val_accuracy: 0.9869\n",
            "Epoch 14/15\n",
            "600/600 [==============================] - 4s 6ms/step - loss: 0.0172 - accuracy: 0.9945 - val_loss: 0.0416 - val_accuracy: 0.9891\n",
            "Epoch 15/15\n",
            "600/600 [==============================] - 4s 6ms/step - loss: 0.0151 - accuracy: 0.9957 - val_loss: 0.0373 - val_accuracy: 0.9905\n"
          ],
          "name": "stdout"
        }
      ]
    },
    {
      "cell_type": "code",
      "metadata": {
        "id": "DktblJMwreQ5",
        "colab_type": "code",
        "colab": {}
      },
      "source": [
        "def plot_image(i, predictions_array, true_label, img):\n",
        "    predictions_array, true_label, img = predictions_array[i], true_label[i], img[i]\n",
        "    plt.grid(False)\n",
        "    plt.xticks([])\n",
        "    plt.yticks([])\n",
        "\n",
        "    plt.imshow(img,cmap=plt.cm.binary)\n",
        "\n",
        "    predicted_label = np.argmax(predictions_array)\n",
        "    if predicted_label == true_label:\n",
        "        color = 'blue'\n",
        "    else:\n",
        "        color = 'red'\n",
        "\n",
        "    plt.xlabel(\"{} {:2.0f}% ({})\".format(class_names[predicted_label],\n",
        "                                100*np.max(predictions_array),\n",
        "                                class_names[true_label]),\n",
        "                                color=color)\n",
        "\n",
        "def plot_value_array(i, predictions_array, true_label):\n",
        "    predictions_array, true_label = predictions_array[i], true_label[i]\n",
        "    plt.grid(False)\n",
        "    #plt.xticks([])\n",
        "    plt.xticks(range(n_class), class_names, rotation=90)\n",
        "    plt.yticks([])\n",
        "    thisplot = plt.bar(range(n_class), predictions_array, color=\"#777777\")\n",
        "    plt.ylim([0, 1]) \n",
        "    predicted_label = np.argmax(predictions_array)\n",
        " \n",
        "    thisplot[predicted_label].set_color('red')\n",
        "    thisplot[true_label].set_color('blue')"
      ],
      "execution_count": 0,
      "outputs": []
    },
    {
      "cell_type": "code",
      "metadata": {
        "id": "d8o6MGhtryj7",
        "colab_type": "code",
        "outputId": "aecb0235-7020-4158-8190-6ca19d287896",
        "colab": {
          "base_uri": "https://localhost:8080/",
          "height": 1000
        }
      },
      "source": [
        "rnd_idx = np.random.randint(1, n_test//batch_size)\n",
        "img_cnt = 0\n",
        "for images, labels in test_dataset:\n",
        "    img_cnt += 1\n",
        "    if img_cnt != rnd_idx:\n",
        "        continue\n",
        "    predictions = model(images, training=False)\n",
        "    num_rows = 5\n",
        "    num_cols = 3\n",
        "    num_images = num_rows*num_cols\n",
        "    labels = tf.argmax(labels, axis=-1)\n",
        "    plt.figure(figsize=(3*2*num_cols, 4*num_rows))\n",
        "    plt.subplots_adjust(hspace=1.0)\n",
        "    for i in range(num_images):\n",
        "        plt.subplot(num_rows, 2*num_cols, 2*i+1)\n",
        "        plot_image(i, predictions.numpy(), labels.numpy(), images.numpy())\n",
        "        plt.subplot(num_rows, 2*num_cols, 2*i+2)\n",
        "        plot_value_array(i, predictions.numpy(), labels.numpy())        \n",
        "    break"
      ],
      "execution_count": 22,
      "outputs": [
        {
          "output_type": "display_data",
          "data": {
            "image/png": "[encoded data removed]",
            "text/plain": [
              "<Figure size 1296x1440 with 30 Axes>"
            ]
          },
          "metadata": {
            "tags": []
          }
        }
      ]
    },
    {
      "cell_type": "code",
      "metadata": {
        "id": "3bNqqzQd6Whr",
        "colab_type": "code",
        "colab": {}
      },
      "source": [
        ""
      ],
      "execution_count": 0,
      "outputs": []
    }
  ]
}
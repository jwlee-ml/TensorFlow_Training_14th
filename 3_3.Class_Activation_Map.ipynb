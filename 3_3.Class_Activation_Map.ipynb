{
  "nbformat": 4,
  "nbformat_minor": 0,
  "metadata": {
    "kernelspec": {
      "name": "python3",
      "display_name": "Python 3"
    },
    "language_info": {
      "codemirror_mode": {
        "name": "ipython",
        "version": 3
      },
      "file_extension": ".py",
      "mimetype": "text/x-python",
      "name": "python",
      "nbconvert_exporter": "python",
      "pygments_lexer": "ipython3",
      "version": "3.5.6"
    },
    "colab": {
      "name": "3_2_Class_Activation_Map.ipynb",
      "provenance": [],
      "collapsed_sections": []
    },
    "accelerator": "GPU"
  },
  "cells": [
    {
      "cell_type": "markdown",
      "metadata": {
        "id": "voZlhTvYzPGG",
        "colab_type": "text"
      },
      "source": [
        "### TensorFlow 2.0 선택\n",
        "[런타임] -> [런타임 유형변경]에서 하드웨어 가속기를 꼭 GPU로 설정!"
      ]
    },
    {
      "cell_type": "code",
      "metadata": {
        "id": "ze-i22GL6T4p",
        "colab_type": "code",
        "colab": {}
      },
      "source": [
        "from google.colab import drive\n",
        "drive.mount('/content/drive')"
      ],
      "execution_count": 0,
      "outputs": []
    },
    {
      "cell_type": "code",
      "metadata": {
        "id": "TcgaxEz0xYNp",
        "colab_type": "code",
        "colab": {}
      },
      "source": [
        "try:\n",
        "  # %tensorflow_version only exists in Colab.\n",
        "  %tensorflow_version 2.x\n",
        "except Exception:\n",
        "  pass"
      ],
      "execution_count": 0,
      "outputs": []
    },
    {
      "cell_type": "markdown",
      "metadata": {
        "id": "upUQgoi_I8Qb",
        "colab_type": "text"
      },
      "source": [
        "## Class Activation Map 실습\n",
        "\n",
        "이번 실습에서는 ImageNet pretrained model에 대해서 class activation map을 구해봅니다 "
      ]
    },
    {
      "cell_type": "code",
      "metadata": {
        "id": "D5Cgik91I8Qc",
        "colab_type": "code",
        "colab": {}
      },
      "source": [
        "## library import\n",
        "import tensorflow as tf\n",
        "from tensorflow import keras\n",
        "import numpy as np\n",
        "import matplotlib.pyplot as plt\n",
        "import os\n",
        "from PIL import Image\n",
        "\n",
        "print(tf.__version__)\n",
        "print(keras.__version__)"
      ],
      "execution_count": 0,
      "outputs": []
    },
    {
      "cell_type": "code",
      "metadata": {
        "id": "rfx0nVXjI8Qf",
        "colab_type": "code",
        "colab": {}
      },
      "source": [
        "from tensorflow.keras.applications.mobilenet import MobileNet, preprocess_input, decode_predictions"
      ],
      "execution_count": 0,
      "outputs": []
    },
    {
      "cell_type": "code",
      "metadata": {
        "id": "G8oCtaZrI8Qh",
        "colab_type": "code",
        "colab": {}
      },
      "source": [
        "img_size = 224"
      ],
      "execution_count": 0,
      "outputs": []
    },
    {
      "cell_type": "code",
      "metadata": {
        "id": "sOv11ivJI8Qj",
        "colab_type": "code",
        "colab": {}
      },
      "source": [
        "## pretrained mobilenet load\n",
        "mobilenet = MobileNet(weights='imagenet', include_top=True,\n",
        "                     input_shape=(img_size, img_size, 3))"
      ],
      "execution_count": 0,
      "outputs": []
    },
    {
      "cell_type": "code",
      "metadata": {
        "scrolled": false,
        "id": "BwX0YcbbI8Qk",
        "colab_type": "code",
        "colab": {}
      },
      "source": [
        "mobilenet.trainable = False\n",
        "mobilenet.summary()"
      ],
      "execution_count": 0,
      "outputs": []
    },
    {
      "cell_type": "code",
      "metadata": {
        "id": "Y3wj6AXDI8Qm",
        "colab_type": "code",
        "colab": {}
      },
      "source": [
        "## input image를 받아서, 마지막 feature map을 출력해주는 model 생성\n",
        "target_fmap = mobilenet.get_layer(name='conv_pw_13_relu').output\n",
        "model = keras.models.Model(mobilenet.input, target_fmap)"
      ],
      "execution_count": 0,
      "outputs": []
    },
    {
      "cell_type": "code",
      "metadata": {
        "id": "CdX30fNMI8Qn",
        "colab_type": "code",
        "colab": {}
      },
      "source": [
        "## fully connected layer의 weight\n",
        "weights = mobilenet.get_layer(name='conv_preds').get_weights()[0]\n",
        "print(weights.shape)"
      ],
      "execution_count": 0,
      "outputs": []
    },
    {
      "cell_type": "code",
      "metadata": {
        "id": "TQgofoVBI8Qp",
        "colab_type": "code",
        "colab": {}
      },
      "source": [
        "## weight reshape\n",
        "weights = np.reshape(weights, (1024, 1000))\n",
        "print(weights.shape)"
      ],
      "execution_count": 0,
      "outputs": []
    },
    {
      "cell_type": "code",
      "metadata": {
        "id": "5buXasOAKZzz",
        "colab_type": "code",
        "colab": {}
      },
      "source": [
        "cd '/content/drive/My Drive/TensorFlow_Training_14th'"
      ],
      "execution_count": 0,
      "outputs": []
    },
    {
      "cell_type": "code",
      "metadata": {
        "id": "ehs5Tda3I8Qq",
        "colab_type": "code",
        "colab": {}
      },
      "source": [
        "## test image를 읽어와서 224, 224로 resize\n",
        "from PIL import Image\n",
        "\n",
        "cur_dir = os.getcwd()\n",
        "img_path = os.path.join(cur_dir, 'data', 'catdog.jpg')\n",
        "currimg = Image.open(img_path)\n",
        "currimg = currimg.resize((img_size, img_size))\n",
        "image = np.asarray(currimg)\n",
        "image = np.reshape(image, (-1, img_size, img_size, 3))\n",
        "print(image.shape)"
      ],
      "execution_count": 0,
      "outputs": []
    },
    {
      "cell_type": "code",
      "metadata": {
        "id": "cM0aLwAiI8Qs",
        "colab_type": "code",
        "colab": {}
      },
      "source": [
        "## 화면에 출력\n",
        "plt.imshow(image[0])\n",
        "plt.show()"
      ],
      "execution_count": 0,
      "outputs": []
    },
    {
      "cell_type": "code",
      "metadata": {
        "scrolled": false,
        "id": "3byZ5VDdI8Qu",
        "colab_type": "code",
        "colab": {}
      },
      "source": [
        "## test image를 pretrained model에 넣고 feature map을 뽑음\n",
        "fmap = model(preprocess_input(image))\n",
        "fmap = np.reshape(np.array(fmap), (7,7,1024))\n",
        "print(fmap.shape)"
      ],
      "execution_count": 0,
      "outputs": []
    },
    {
      "cell_type": "code",
      "metadata": {
        "id": "mmI4K6OoI8Qw",
        "colab_type": "code",
        "colab": {}
      },
      "source": [
        "## test image에 대한 top-1 class 확인\n",
        "prediction = mobilenet.predict(preprocess_input(image))\n",
        "\n",
        "pred_class = np.argmax(prediction, -1)\n",
        "pred_class"
      ],
      "execution_count": 0,
      "outputs": []
    },
    {
      "cell_type": "code",
      "metadata": {
        "id": "YLoCiwmaI8Qx",
        "colab_type": "code",
        "colab": {}
      },
      "source": [
        "## top-1 외에 다른 class에 대한 label에 대해서도 CAM을 수행할 수 있도록 label list 생성\n",
        "label_list = np.argsort(prediction, -1)\n",
        "label_list = label_list[0, ::-1]\n",
        "label_list[0]"
      ],
      "execution_count": 0,
      "outputs": []
    },
    {
      "cell_type": "code",
      "metadata": {
        "id": "l8utcCkAfnNB",
        "colab_type": "code",
        "colab": {}
      },
      "source": [
        "label_list[2]"
      ],
      "execution_count": 0,
      "outputs": []
    },
    {
      "cell_type": "code",
      "metadata": {
        "id": "_5kGwGkZI8Qz",
        "colab_type": "code",
        "colab": {}
      },
      "source": [
        "## top-5 확인\n",
        "decode_predictions(prediction, top=5)"
      ],
      "execution_count": 0,
      "outputs": []
    },
    {
      "cell_type": "code",
      "metadata": {
        "id": "LobaZ2U5I8Q1",
        "colab_type": "code",
        "colab": {}
      },
      "source": [
        "## top-5 class중 원하는 class에 대한 weight 가져오기\n",
        "## 예) top-1 class: label_list[0], top-2 class: label_list[1], ...\n",
        "#weights_cam = weights[:, pred_class[0]]\n",
        "weights_cam = weights[:, label_list[2]]\n",
        "weights_cam.shape"
      ],
      "execution_count": 0,
      "outputs": []
    },
    {
      "cell_type": "code",
      "metadata": {
        "id": "SXElViCZI8Q2",
        "colab_type": "code",
        "colab": {}
      },
      "source": [
        "## CAM 만들기 (0으로 초기화한 후 weight x feature map을 누적해서 더함)\n",
        "camsum = np.zeros((7,7))\n",
        "for i in range(1024):\n",
        "    camsum = camsum + weights_cam[i]*fmap[:,:,i]\n",
        "camsum = camsum / 1024."
      ],
      "execution_count": 0,
      "outputs": []
    },
    {
      "cell_type": "code",
      "metadata": {
        "id": "x7SrFkhTI8Q4",
        "colab_type": "code",
        "colab": {}
      },
      "source": [
        "## 원본 image와 CAM 확인\n",
        "fig1 = plt.figure(figsize=(10,6))\n",
        "ax1 = fig1.add_subplot(1,2,1)\n",
        "ax1.imshow(image[0])\n",
        "ax1.set_title(\"Input Image\")\n",
        "ax2 = fig1.add_subplot(1,2,2)\n",
        "ax2.imshow(camsum)\n",
        "ax2.set_title(\"Class Activation Map\")\n",
        "plt.show()"
      ],
      "execution_count": 0,
      "outputs": []
    },
    {
      "cell_type": "code",
      "metadata": {
        "id": "zGiP8UqpI8Q7",
        "colab_type": "code",
        "colab": {}
      },
      "source": [
        "## CAM을 0~1사이로 scaling\n",
        "camsum /= camsum.max()\n",
        "plt.matshow(camsum)\n",
        "plt.show()"
      ],
      "execution_count": 0,
      "outputs": []
    },
    {
      "cell_type": "markdown",
      "metadata": {
        "id": "rtkHxYpGI8Q9",
        "colab_type": "text"
      },
      "source": [
        "### CAM을 image로 저장"
      ]
    },
    {
      "cell_type": "code",
      "metadata": {
        "id": "yBUhEpViI8Q-",
        "colab_type": "code",
        "colab": {}
      },
      "source": [
        "import cv2"
      ],
      "execution_count": 0,
      "outputs": []
    },
    {
      "cell_type": "code",
      "metadata": {
        "id": "3_Z4PvjII8RA",
        "colab_type": "code",
        "colab": {}
      },
      "source": [
        "img = cv2.imread(img_path)\n",
        "img = cv2.resize(img, (img_size, img_size))\n",
        "camsum = cv2.resize(camsum, (img_size, img_size))\n",
        "heatmap = np.uint8(255*camsum)"
      ],
      "execution_count": 0,
      "outputs": []
    },
    {
      "cell_type": "code",
      "metadata": {
        "id": "NPLYNuK-I8RD",
        "colab_type": "code",
        "colab": {}
      },
      "source": [
        "heatmap = cv2.applyColorMap(heatmap, cv2.COLORMAP_JET)"
      ],
      "execution_count": 0,
      "outputs": []
    },
    {
      "cell_type": "code",
      "metadata": {
        "id": "PNmWoamLI8RF",
        "colab_type": "code",
        "colab": {}
      },
      "source": [
        "## 원본 image와 CAM을 어느정도 비율로 섞을지 결정\n",
        "superimposed_img = heatmap * 0.4 + img * 0.7"
      ],
      "execution_count": 0,
      "outputs": []
    },
    {
      "cell_type": "code",
      "metadata": {
        "id": "7r9YsSa-I8RH",
        "colab_type": "code",
        "colab": {}
      },
      "source": [
        "## file 저장할 경로\n",
        "cam_path = os.path.join(cur_dir, 'cam.jpg')"
      ],
      "execution_count": 0,
      "outputs": []
    },
    {
      "cell_type": "code",
      "metadata": {
        "id": "toEqj1bnI8RJ",
        "colab_type": "code",
        "colab": {}
      },
      "source": [
        "## file 저장\n",
        "cv2.imwrite(cam_path, superimposed_img)"
      ],
      "execution_count": 0,
      "outputs": []
    },
    {
      "cell_type": "code",
      "metadata": {
        "id": "GuB8WmOPI8RL",
        "colab_type": "code",
        "colab": {}
      },
      "source": [
        "currimg = Image.open(cam_path)\n",
        "image = np.asarray(currimg)\n",
        "plt.figure(figsize=(5,5))\n",
        "plt.imshow(image)\n",
        "plt.show()"
      ],
      "execution_count": 0,
      "outputs": []
    },
    {
      "cell_type": "code",
      "metadata": {
        "id": "EzMm0xMwI8RM",
        "colab_type": "code",
        "colab": {}
      },
      "source": [
        ""
      ],
      "execution_count": 0,
      "outputs": []
    }
  ]
}